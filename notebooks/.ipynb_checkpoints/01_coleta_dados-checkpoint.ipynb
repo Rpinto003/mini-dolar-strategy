{
 "cells": [
  {
   "cell_type": "markdown",
   "metadata": {},
   "source": [
    "# Coleta de Dados para Análise do WDO\n",
    "\n",
    "Este notebook demonstra o processo de coleta de dados para análise do mini dólar (WDO)."
   ]
  },
  {
   "cell_type": "code",
   "execution_count": null,
   "metadata": {},
   "outputs": [],
   "source": [
    "# Importações necessárias\n",
    "import sys\n",
    "sys.path.append('../')  # Adiciona diretório raiz ao path\n",
    "\n",
    "from src.data.collect_market_data import fetch_wdo_data\n",
    "from src.data.economic_indicators import EconomicDataCollector\n",
    "from datetime import datetime, timedelta\n",
    "import pandas as pd\n",
    "import os\n",
    "from dotenv import load_dotenv\n",
    "\n",
    "# Carrega variáveis de ambiente\n",
    "load_dotenv()\n",
    "\n",
    "# Configura exibição do pandas\n",
    "pd.set_option('display.max_columns', None)\n",
    "pd.set_option('display.width', None)"
   ]
  },
  {
   "cell_type": "markdown",
   "metadata": {},
   "source": [
    "## 1. Definir período de análise"
   ]
  },
  {
   "cell_type": "code",
   "execution_count": 2,
   "metadata": {},
   "outputs": [
    {
     "name": "stdout",
     "output_type": "stream",
     "text": [
      "Período de análise: 2024-11-01 até 2024-12-01\n"
     ]
    }
   ],
   "source": [
    "# Define período de análise\n",
    "end_date = datetime.now()\n",
    "start_date = end_date - timedelta(days=30)  # Começamos com 30 dias para teste\n",
    "\n",
    "print(f'Período de análise: {start_date.date()} até {end_date.date()}')"
   ]
  },
  {
   "cell_type": "markdown",
   "metadata": {},
   "source": [
    "## 2. Coletar dados do BCB"
   ]
  },
  {
   "cell_type": "code",
   "execution_count": null,
   "metadata": {},
   "outputs": [
    {
     "ename": "SyntaxError",
     "evalue": "unterminated f-string literal (detected at line 12) (2697034403.py, line 12)",
     "output_type": "error",
     "traceback": [
      "\u001b[1;36m  Cell \u001b[1;32mIn[4], line 12\u001b[1;36m\u001b[0m\n\u001b[1;33m    print(f'\u001b[0m\n\u001b[1;37m          ^\u001b[0m\n\u001b[1;31mSyntaxError\u001b[0m\u001b[1;31m:\u001b[0m unterminated f-string literal (detected at line 12)\n"
     ]
    }
   ],
   "source": [
    "# Cria instância do coletor\n",
    "collector = EconomicDataCollector()\n",
    "\n",
    "# Coleta dados do BCB\n",
    "bcb_data = collector.collect_all_indicators(\n",
    "    start_date=start_date.strftime('%Y-%m-%d'),\n",
    "    end_date=end_date.strftime('%Y-%m-%d')\n",
    ")\n",
    "\n",
    "# Exibe dados coletados\n",
    "for name, df in bcb_data.items():\n",
    "    print(f'{name}:')\n",
    "    print(df.head())"
   ]
  },
  {
   "cell_type": "markdown",
   "metadata": {},
   "source": [
    "## 3. Coletar dados do FRED"
   ]
  },
  {
   "cell_type": "code",
   "execution_count": null,
   "metadata": {},
   "outputs": [],
   "source": [
    "# Pega API key do arquivo .env\n",
    "fred_api_key = os.getenv('FRED_API_KEY')\n",
    "\n",
    "if fred_api_key:\n",
    "    # Coleta dados incluindo FRED\n",
    "    all_data = collector.collect_all_indicators(\n",
    "        start_date=start_date.strftime('%Y-%m-%d'),\n",
    "        end_date=end_date.strftime('%Y-%m-%d'),\n",
    "        fred_api_key=fred_api_key\n",
    "    )\n",
    "    \n",
    "    # Filtra apenas dados do FRED\n",
    "    fred_data = {k: v for k, v in all_data.items() if k.startswith('fred_')}\n",
    "    \n",
    "    for name, df in fred_data.items():\n",
    "        print(f'\n",
    "{name}:')\n",
    "        print(df.head())\n",
    "else:\n",
    "    print('FRED API key não encontrada no arquivo .env')"
   ]
  },
  {
   "cell_type": "markdown",
   "metadata": {},
   "source": [
    "## 4. Salvar dados coletados"
   ]
  },
  {
   "cell_type": "code",
   "execution_count": null,
   "metadata": {},
   "outputs": [],
   "source": [
    "# Cria diretório se não existir\n",
    "os.makedirs('../data/raw', exist_ok=True)\n",
    "\n",
    "# Salva dados do BCB\n",
    "for name, df in bcb_data.items():\n",
    "    df.to_csv(f'../data/raw/{name}_data.csv')\n",
    "    print(f'Dados salvos: {name}_data.csv')\n",
    "\n",
    "# Salva dados do FRED se disponíveis\n",
    "if fred_api_key:\n",
    "    for name, df in fred_data.items():\n",
    "        df.to_csv(f'../data/raw/{name}_data.csv')\n",
    "        print(f'Dados salvos: {name}_data.csv')"
   ]
  }
 ],
 "metadata": {
  "kernelspec": {
   "display_name": "aioffice_env",
   "language": "python",
   "name": "python3"
  },
  "language_info": {
   "codemirror_mode": {
    "name": "ipython",
    "version": 3
   },
   "file_extension": ".py",
   "mimetype": "text/x-python",
   "name": "python",
   "nbconvert_exporter": "python",
   "pygments_lexer": "ipython3",
   "version": "3.12.6"
  }
 },
 "nbformat": 4,
 "nbformat_minor": 4
}
