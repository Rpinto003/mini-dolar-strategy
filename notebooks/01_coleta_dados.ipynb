{
 "cells": [
  {
   "cell_type": "markdown",
   "metadata": {},
   "source": [
    "# Coleta de Dados para Análise do WDO\n",
    "\n",
    "Este notebook demonstra o processo de coleta de dados para análise do mini dólar (WDO)."
   ]
  },
  {
   "cell_type": "code",
   "execution_count": null,
   "metadata": {},
   "source": [
    "import sys\n",
    "sys.path.append('../')\n",
    "\n",
    "from src.data.collect_market_data import fetch_wdo_data\n",
    "from src.data.economic_indicators import EconomicDataCollector\n",
    "from datetime import datetime, timedelta\n",
    "import pandas as pd"
   ]
  },
  {
   "cell_type": "markdown",
   "metadata": {},
   "source": [
    "## 1. Definir período de análise"
   ]
  },
  {
   "cell_type": "code",
   "execution_count": null,
   "metadata": {},
   "source": [
    "end_date = datetime.now()\n",
    "start_date = end_date - timedelta(days=252)  # 1 ano de dados\n",
    "\n",
    "print(f'Período de análise: {start_date.date()} até {end_date.date()}')"
   ]
  },
  {
   "cell_type": "markdown",
   "metadata": {},
   "source": [
    "## 2. Coletar dados de mercado"
   ]
  },
  {
   "cell_type": "code",
   "execution_count": null,
   "metadata": {},
   "source": [
    "# Coleta dados do WDO\n",
    "market_data = fetch_wdo_data(\n",
    "    start_date.strftime('%Y-%m-%d'),\n",
    "    end_date.strftime('%Y-%m-%d')\n",
    ")\n",
    "\n",
    "print('\nDados de mercado:')\n",
    "print(market_data.head())"
   ]
  },
  {
   "cell_type": "markdown",
   "metadata": {},
   "source": [
    "## 3. Coletar indicadores econômicos"
   ]
  },
  {
   "cell_type": "code",
   "execution_count": null,
   "metadata": {},
   "source": [
    "# Coleta indicadores econômicos\n",
    "collector = EconomicDataCollector()\n",
    "economic_data = collector.collect_all_indicators(\n",
    "    start_date.strftime('%Y-%m-%d'),\n",
    "    end_date.strftime('%Y-%m-%d')\n",
    ")\n",
    "\n",
    "print('\nIndicadores econômicos:')\n",
    "for name, data in economic_data.items():\n",
    "    print(f'\n{name}:')\n",
    "    print(data.head())"
   ]
  },
  {
   "cell_type": "markdown",
   "metadata": {},
   "source": [
    "## 4. Salvar dados coletados"
   ]
  },
  {
   "cell_type": "code",
   "execution_count": null,
   "metadata": {},
   "source": [
    "# Salva dados de mercado\n",
    "market_data.to_csv('../data/raw/market_data.csv')\n",
    "\n",
    "# Salva indicadores econômicos\n",
    "for name, data in economic_data.items():\n",
    "    data.to_csv(f'../data/raw/{name}_data.csv')\n",
    "\n",
    "print('\nDados salvos com sucesso!')"
   ]
  }
 ],
 "metadata": {
  "kernelspec": {
   "display_name": "Python 3",
   "language": "python",
   "name": "python3"
  }
 },
 "nbformat": 4,
 "nbformat_minor": 4
}