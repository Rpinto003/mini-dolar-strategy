{
 "cells": [
  {
   "cell_type": "markdown",
   "metadata": {},
   "source": [
    "# Coleta de Dados para Análise do WDO\n",
    "\n",
    "Este notebook demonstra o processo de coleta de dados para análise do mini dólar (WDO)."
   ]
  },
  {
   "cell_type": "code",
   "execution_count": null,
   "metadata": {},
   "source": [
    "# Importações necessárias\n",
    "import sys\n",
    "sys.path.append('../')  # Adiciona diretório raiz ao path\n",
    "\n",
    "from src.data.collect_market_data import fetch_wdo_data\n",
    "from src.data.economic_indicators import EconomicDataCollector\n",
    "from datetime import datetime, timedelta\n",
    "import pandas as pd\n",
    "import os\n",
    "from dotenv import load_dotenv\n",
    "\n",
    "# Carrega variáveis de ambiente\n",
    "load_dotenv()\n",
    "\n",
    "# Configura exibição do pandas\n",
    "pd.set_option('display.max_columns', None)\n",
    "pd.set_option('display.width', None)"
   ]
  },
  {
   "cell_type": "markdown",
   "metadata": {},
   "source": [
    "## 1. Definir período de análise"
   ]
  },
  {
   "cell_type": "code",
   "execution_count": null,
   "metadata": {},
   "source": [
    "# Define período de análise\n",
    "end_date = datetime.now()\n",
    "start_date = end_date - timedelta(days=30)  # Começamos com 30 dias para teste\n",
    "\n",
    "print(f'Período de análise: {start_date.date()} até {end_date.date()}')"
   ]
  },
  {
   "cell_type": "markdown",
   "metadata": {},
   "source": [
    "## 2. Coletar dados do BCB"
   ]
  },
  {
   "cell_type": "code",
   "execution_count": null,
   "metadata": {},
   "source": [
    "# Cria instância do coletor\n",
    "collector = EconomicDataCollector()\n",
    "\n",
    "# Coleta dados do BCB\n",
    "bcb_data = collector.collect_all_indicators(\n",
    "    start_date=start_date.strftime('%Y-%m-%d'),\n",
    "    end_date=end_date.strftime('%Y-%m-%d')\n",
    ")\n",
    "\n",
    "# Exibe dados coletados\n",
    "for name, df in bcb_data.items():\n",
    "    print(f'\n{name}:')\n",
    "    print(df.head())"
   ]
  },
  {
   "cell_type": "markdown",
   "metadata": {},
   "source": [
    "## 3. Coletar dados do FRED"
   ]
  },
  {
   "cell_type": "code",
   "execution_count": null,
   "metadata": {},
   "source": [
    "# Pega API key do arquivo .env\n",
    "fred_api_key = os.getenv('FRED_API_KEY')\n",
    "\n",
    "if fred_api_key:\n",
    "    # Coleta dados incluindo FRED\n",
    "    all_data = collector.collect_all_indicators(\n",
    "        start_date=start_date.strftime('%Y-%m-%d'),\n",
    "        end_date=end_date.strftime('%Y-%m-%d'),\n",
    "        fred_api_key=fred_api_key\n",
    "    )\n",
    "    \n",
    "    # Filtra apenas dados do FRED\n",
    "    fred_data = {k: v for k, v in all_data.items() if k.startswith('fred_')}\n",
    "    \n",
    "    for name, df in fred_data.items():\n",
    "        print(f'\n{name}:')\n",
    "        print(df.head())\n",
    "else:\n",
    "    print('FRED API key não encontrada no arquivo .env')"
   ]
  },
  {
   "cell_type": "markdown",
   "metadata": {},
   "source": [
    "## 4. Salvar dados coletados"
   ]
  },
  {
   "cell_type": "code",
   "execution_count": null,
   "metadata": {},
   "source": [
    "# Cria diretório se não existir\n",
    "os.makedirs('../data/raw', exist_ok=True)\n",
    "\n",
    "# Salva dados do BCB\n",
    "for name, df in bcb_data.items():\n",
    "    df.to_csv(f'../data/raw/{name}_data.csv')\n",
    "    print(f'Dados salvos: {name}_data.csv')\n",
    "\n",
    "# Salva dados do FRED se disponíveis\n",
    "if fred_api_key:\n",
    "    for name, df in fred_data.items():\n",
    "        df.to_csv(f'../data/raw/{name}_data.csv')\n",
    "        print(f'Dados salvos: {name}_data.csv')"
   ]
  }
 ],
 "metadata": {
  "kernelspec": {
   "display_name": "Python 3",
   "language": "python",
   "name": "python3"
  }
 },
 "nbformat": 4,
 "nbformat_minor": 4
}