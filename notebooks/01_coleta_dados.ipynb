{
 "cells": [
  {
   "cell_type": "markdown",
   "metadata": {},
   "source": [
    "# Coleta de Dados para Análise do WDO\n",
    "\n",
    "Este notebook demonstra o processo de coleta de dados para análise do mini dólar (WDO)."
   ]
  },
  {
   "cell_type": "code",
   "execution_count": 63,
   "metadata": {},
   "outputs": [
    {
     "name": "stdout",
     "output_type": "stream",
     "text": [
      "Configuração concluída!\n"
     ]
    }
   ],
   "source": [
    "# Importações necessárias\n",
    "import os\n",
    "import sys\n",
    "from pathlib import Path\n",
    "import pandas as pd\n",
    "from datetime import datetime, timedelta\n",
    "\n",
    "# Configura caminhos\n",
    "PROJECT_ROOT = Path(os.getcwd()).parent\n",
    "if str(PROJECT_ROOT) not in sys.path:\n",
    "    sys.path.append(str(PROJECT_ROOT))\n",
    "\n",
    "# Importa módulos do projeto\n",
    "from src.data.collect_market_data import fetch_wdo_data\n",
    "from src.data.economic_indicators import EconomicDataCollector\n",
    "\n",
    "# Configuração direta da chave API\n",
    "FRED_API_KEY = \"e531b375faba60b9228efde0901f08cc\"\n",
    "\n",
    "# Configura pandas\n",
    "pd.set_option('display.max_columns', None)\n",
    "pd.set_option('display.width', None)\n",
    "\n",
    "print(\"Configuração concluída!\")"
   ]
  },
  {
   "cell_type": "markdown",
   "metadata": {},
   "source": [
    "## 1. Definir período de análise"
   ]
  },
  {
   "cell_type": "code",
   "execution_count": 64,
   "metadata": {},
   "outputs": [
    {
     "name": "stdout",
     "output_type": "stream",
     "text": [
      "Período de análise: 2024-11-02 até 2024-12-02\n"
     ]
    }
   ],
   "source": [
    "# Define período de análise\n",
    "end_date = datetime.now()\n",
    "start_date = end_date - timedelta(days=30)\n",
    "\n",
    "# Cria instância do coletor\n",
    "collector = EconomicDataCollector()\n",
    "\n",
    "print(f\"Período de análise: {start_date.date()} até {end_date.date()}\")"
   ]
  },
  {
   "cell_type": "markdown",
   "metadata": {},
   "source": [
    "## 2. Coletar dados do BCB"
   ]
  },
  {
   "cell_type": "code",
   "execution_count": 71,
   "metadata": {},
   "outputs": [
    {
     "name": "stdout",
     "output_type": "stream",
     "text": [
      "\n",
      "=== Coletando SELIC (Taxa SELIC) ===\n",
      "Período: 02/11/2024 até 02/12/2024\n",
      "Status Code: 200\n",
      "\n",
      "Dados processados:\n",
      "            valor\n",
      "data             \n",
      "2024-11-02  10.75\n",
      "2024-11-03  10.75\n",
      "2024-11-04  10.75\n",
      "2024-11-05  10.75\n",
      "2024-11-06  10.75\n",
      "\n",
      "=== Coletando IPCA (Índice de Preços ao Consumidor Amplo) ===\n",
      "Período: 05/06/2024 até 02/12/2024\n",
      "Status Code: 200\n",
      "\n",
      "Dados processados:\n",
      "            valor\n",
      "data             \n",
      "2024-06-01   0.21\n",
      "2024-07-01   0.38\n",
      "2024-08-01  -0.02\n",
      "2024-09-01   0.44\n",
      "2024-10-01   0.56\n",
      "\n",
      "=== Coletando Câmbio (Taxa de Câmbio - Livre - Dólar americano (compra)) ===\n",
      "Período: 02/11/2024 até 02/12/2024\n",
      "Status Code: 200\n",
      "\n",
      "Dados processados:\n",
      "             valor\n",
      "data              \n",
      "2024-11-04  5.7898\n",
      "2024-11-05  5.7846\n",
      "2024-11-06  5.7648\n",
      "2024-11-07  5.6624\n",
      "2024-11-08  5.7648\n",
      "\n",
      "=== Resumo dos Dados Coletados ===\n",
      "\n",
      "SELIC:\n",
      "Período: 2024-11-02 00:00:00 até 2024-12-02 00:00:00\n",
      "Número de registros: 31\n",
      "\n",
      "IPCA:\n",
      "Período: 2024-06-01 00:00:00 até 2024-10-01 00:00:00\n",
      "Número de registros: 5\n",
      "\n",
      "Câmbio:\n",
      "Período: 2024-11-04 00:00:00 até 2024-11-29 00:00:00\n",
      "Número de registros: 18\n"
     ]
    }
   ],
   "source": [
    "# Teste direto da API do BCB\n",
    "import requests\n",
    "from datetime import datetime, timedelta\n",
    "import json\n",
    "\n",
    "# Define o período\n",
    "end_date = datetime.now()\n",
    "start_date = end_date - timedelta(days=30)\n",
    "ipca_start_date = end_date - timedelta(days=180)  # 6 meses para IPCA\n",
    "\n",
    "# Dicionário com as configurações de cada série\n",
    "series = {\n",
    "    'SELIC': {\n",
    "        'codigo': 432,\n",
    "        'start_date': start_date,\n",
    "        'descricao': 'Taxa SELIC'\n",
    "    },\n",
    "    'IPCA': {\n",
    "        'codigo': 433,\n",
    "        'start_date': ipca_start_date,\n",
    "        'descricao': 'Índice de Preços ao Consumidor Amplo'\n",
    "    },\n",
    "    'Câmbio': {\n",
    "        'codigo': 1,\n",
    "        'start_date': start_date,\n",
    "        'descricao': 'Taxa de Câmbio - Livre - Dólar americano (compra)'\n",
    "    }\n",
    "}\n",
    "\n",
    "collected_data = {}  # Para armazenar os DataFrames\n",
    "\n",
    "for nome, config in series.items():\n",
    "    print(f\"\\n=== Coletando {nome} ({config['descricao']}) ===\")\n",
    "    \n",
    "    # Formata as datas no padrão do BCB\n",
    "    start = config['start_date'].strftime('%d/%m/%Y')\n",
    "    end = end_date.strftime('%d/%m/%Y')\n",
    "    \n",
    "    # Monta a URL com formato JSON explícito\n",
    "    url = f'https://api.bcb.gov.br/dados/serie/bcdata.sgs.{config[\"codigo\"]}/dados'\n",
    "    params = {\n",
    "        'formato': 'json',\n",
    "        'dataInicial': start,\n",
    "        'dataFinal': end\n",
    "    }\n",
    "    \n",
    "    headers = {\n",
    "        'Accept': 'application/json'\n",
    "    }\n",
    "    \n",
    "    print(f\"Período: {start} até {end}\")\n",
    "    \n",
    "    try:\n",
    "        response = requests.get(url, params=params, headers=headers)\n",
    "        print(f\"Status Code: {response.status_code}\")\n",
    "        \n",
    "        if response.ok:\n",
    "            try:\n",
    "                if 'application/json' in response.headers.get('Content-Type', ''):\n",
    "                    data = response.json()\n",
    "                else:\n",
    "                    # Tenta forçar interpretação como JSON\n",
    "                    data = response.json()\n",
    "                \n",
    "                if data:  # Verifica se há dados\n",
    "                    df = pd.DataFrame(data)\n",
    "                    df['data'] = pd.to_datetime(df['data'], format='%d/%m/%Y')\n",
    "                    df['valor'] = pd.to_numeric(df['valor'], errors='coerce')\n",
    "                    df = df.set_index('data')\n",
    "                    print(\"\\nDados processados:\")\n",
    "                    print(df.head())\n",
    "                    \n",
    "                    collected_data[nome] = df  # Armazena o DataFrame\n",
    "                else:\n",
    "                    print(\"Nenhum dado retornado para o período\")\n",
    "                    \n",
    "            except json.JSONDecodeError as e:\n",
    "                # Se falhar, tenta uma requisição alternativa\n",
    "                alternative_url = f'https://api.bcb.gov.br/dados/serie/bcdata.sgs.{config[\"codigo\"]}/dados/ultimos/30'\n",
    "                alt_response = requests.get(alternative_url, params={'formato': 'json'})\n",
    "                \n",
    "                if alt_response.ok:\n",
    "                    data = alt_response.json()\n",
    "                    df = pd.DataFrame(data)\n",
    "                    df['data'] = pd.to_datetime(df['data'], format='%d/%m/%Y')\n",
    "                    df['valor'] = pd.to_numeric(df['valor'], errors='coerce')\n",
    "                    df = df.set_index('data')\n",
    "                    print(\"\\nDados processados (via URL alternativa):\")\n",
    "                    print(df.head())\n",
    "                    \n",
    "                    collected_data[nome] = df  # Armazena o DataFrame\n",
    "                else:\n",
    "                    print(f\"Erro também na URL alternativa: {alt_response.status_code}\")\n",
    "                    \n",
    "            except Exception as e:\n",
    "                print(f\"Erro ao processar dados: {str(e)}\")\n",
    "        else:\n",
    "            print(f\"Erro na requisição: {response.text[:200]}\")\n",
    "            \n",
    "    except requests.exceptions.RequestException as e:\n",
    "        print(f\"Erro na requisição HTTP: {str(e)}\")\n",
    "\n",
    "# Mostra resumo dos dados coletados\n",
    "print(\"\\n=== Resumo dos Dados Coletados ===\")\n",
    "for nome, df in collected_data.items():\n",
    "    print(f\"\\n{nome}:\")\n",
    "    print(f\"Período: {df.index.min()} até {df.index.max()}\")\n",
    "    print(f\"Número de registros: {len(df)}\")"
   ]
  },
  {
   "cell_type": "markdown",
   "metadata": {},
   "source": [
    "## 3. Coletar dados do FRED"
   ]
  },
  {
   "cell_type": "code",
   "execution_count": 72,
   "metadata": {},
   "outputs": [
    {
     "name": "stdout",
     "output_type": "stream",
     "text": [
      "=== Teste FRED ===\n",
      "\n",
      "Testando Federal Funds Rate:\n",
      "URL: https://api.stlouisfed.org/fred/series/observations\n",
      "Parâmetros: {'series_id': 'DFF', 'api_key': 'e531b375faba60b9228efde0901f08cc', 'file_type': 'json', 'observation_start': '2024-11-02', 'observation_end': '2024-12-02'}\n",
      "\n",
      "Status Code: 200\n",
      "\n",
      "Dados coletados:\n",
      "           realtime_start realtime_end value\n",
      "date                                        \n",
      "2024-11-02     2024-12-01   2024-12-01  4.83\n",
      "2024-11-03     2024-12-01   2024-12-01  4.83\n",
      "2024-11-04     2024-12-01   2024-12-01  4.83\n",
      "2024-11-05     2024-12-01   2024-12-01  4.83\n",
      "2024-11-06     2024-12-01   2024-12-01  4.83\n"
     ]
    }
   ],
   "source": [
    "# Teste da API do FRED\n",
    "print(\"=== Teste FRED ===\")\n",
    "url = \"https://api.stlouisfed.org/fred/series/observations\"\n",
    "params = {\n",
    "    'series_id': 'DFF',  # Federal Funds Rate\n",
    "    'api_key': FRED_API_KEY,\n",
    "    'file_type': 'json',\n",
    "    'observation_start': start_date.strftime('%Y-%m-%d'),\n",
    "    'observation_end': end_date.strftime('%Y-%m-%d')\n",
    "}\n",
    "\n",
    "print(\"\\nTestando Federal Funds Rate:\")\n",
    "print(f\"URL: {url}\")\n",
    "print(f\"Parâmetros: {params}\")\n",
    "\n",
    "response = requests.get(url, params=params)\n",
    "print(f\"\\nStatus Code: {response.status_code}\")\n",
    "\n",
    "if response.ok:\n",
    "    data = response.json()\n",
    "    if 'observations' in data:\n",
    "        df = pd.DataFrame(data['observations'])\n",
    "        df['date'] = pd.to_datetime(df['date'])\n",
    "        df = df.set_index('date')\n",
    "        print(\"\\nDados coletados:\")\n",
    "        print(df.head())\n",
    "    else:\n",
    "        print(\"\\nResposta não contém observações:\")\n",
    "        print(data)\n",
    "else:\n",
    "    print(\"\\nErro na resposta:\")\n",
    "    print(response.text)"
   ]
  },
  {
   "cell_type": "markdown",
   "metadata": {},
   "source": [
    "## 4. Salvar dados coletados"
   ]
  },
  {
   "cell_type": "code",
   "execution_count": 73,
   "metadata": {},
   "outputs": [],
   "source": [
    "# Cria diretório se não existir\n",
    "os.makedirs('../data/raw', exist_ok=True)\n",
    "\n",
    "# Salva dados do BCB\n",
    "for name, df in bcb_data.items():\n",
    "    df.to_csv(f'../data/raw/{name}_data.csv')\n",
    "    print(f'Dados salvos: {name}_data.csv')\n",
    "\n",
    "# Salva dados do FRED se disponíveis\n",
    "if fred_api_key:\n",
    "    for name, df in fred_data.items():\n",
    "        df.to_csv(f'../data/raw/{name}_data.csv')\n",
    "        print(f'Dados salvos: {name}_data.csv')"
   ]
  }
 ],
 "metadata": {
  "kernelspec": {
   "display_name": "aioffice_env",
   "language": "python",
   "name": "python3"
  },
  "language_info": {
   "codemirror_mode": {
    "name": "ipython",
    "version": 3
   },
   "file_extension": ".py",
   "mimetype": "text/x-python",
   "name": "python",
   "nbconvert_exporter": "python",
   "pygments_lexer": "ipython3",
   "version": "3.12.6"
  }
 },
 "nbformat": 4,
 "nbformat_minor": 4
}
