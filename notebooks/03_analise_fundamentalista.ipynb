{
 "cells": [
  {
   "cell_type": "markdown",
   "metadata": {},
   "source": [
    "## 2. Classificação e Análise de Sentimento\n",
    "\n",
    "Vamos classificar as notícias por categoria e analisar o sentimento de cada uma."
   ]
  },
  {
   "cell_type": "code",
   "execution_count": null,
   "metadata": {},
   "source": [
    "# Classifica notícias\n",
    "news_df = analyzer.classify_news(news_df)\n",
    "\n",
    "# Analisa sentimento\n",
    "news_df = analyzer.analyze_sentiment(news_df)\n",
    "\n",
    "# Mostra distribuição por categoria\n",
    "category_counts = pd.Series([\n",
    "    cat for cats in news_df['categories'] for cat in cats\n",
    "]).value_counts()\n",
    "\n",
    "print('\nDistribuição por categoria:')\n",
    "print(category_counts)\n",
    "\n",
    "print('\nDistribuição de sentimento:')\n",
    "print(news_df['sentiment'].value_counts())\n",
    "\n",
    "# Visualiza distribuição\n",
    "import plotly.express as px\n",
    "\n",
    "fig = px.pie(values=category_counts.values,\n",
    "            names=category_counts.index,\n",
    "            title='Distribuição de Notícias por Categoria')\n",
    "fig.show()"
   ]
  },
  {
   "cell_type": "markdown",
   "metadata": {},
   "source": [
    "## 3. Cálculo de Impacto\n",
    "\n",
    "Vamos calcular o score de impacto de cada notícia baseado em sua categoria e sentimento."
   ]
  },
  {
   "cell_type": "code",
   "execution_count": null,
   "metadata": {},
   "source": [
    "# Calcula scores de impacto\n",
    "news_df = analyzer.calculate_impact_score(news_df)\n",
    "\n",
    "# Visualiza distribuição dos scores\n",
    "fig = px.histogram(news_df, x='impact_score',\n",
    "                  title='Distribuição dos Scores de Impacto',\n",
    "                  nbins=30)\n",
    "fig.show()\n",
    "\n",
    "# Mostra média de impacto por categoria\n",
    "impact_by_category = []\n",
    "for cat in analyzer.event_categories.keys():\n",
    "    mask = news_df['categories'].apply(lambda x: cat in x)\n",
    "    avg_impact = news_df[mask]['impact_score'].mean()\n",
    "    impact_by_category.append({\n",
    "        'category': cat,\n",
    "        'avg_impact': avg_impact\n",
    "    })\n",
    "\n",
    "impact_df = pd.DataFrame(impact_by_category)\n",
    "print('\nImpacto médio por categoria:')\n",
    "print(impact_df.sort_values('avg_impact', ascending=False))"
   ]
  },
  {
   "cell_type": "markdown",
   "metadata": {},
   "source": [
    "## 4. Correlação com Preços\n",
    "\n",
    "Vamos analisar como os scores de impacto se correlacionam com os movimentos do WDO."
   ]
  },
  {
   "cell_type": "code",
   "execution_count": null,
   "metadata": {},
   "source": [
    "# Coleta dados de preço\n",
    "price_df = fetch_wdo_data(\n",
    "    start_date.strftime('%Y-%m-%d'),\n",
    "    end_date.strftime('%Y-%m-%d')\n",
    ")\n",
    "\n",
    "# Calcula correlações\n",
    "combined_df, correlations = analyzer.correlate_with_price(\n",
    "    news_df, price_df, window='1D'\n",
    ")\n",
    "\n",
    "print('\nCorrelações:')\n",
    "for metric, value in correlations.items():\n",
    "    print(f'{metric}: {value:.3f}')\n",
    "\n",
    "# Visualiza relação entre impacto e retornos\n",
    "fig = px.scatter(combined_df, x='sum', y='returns',\n",
    "                title='Impacto vs Retornos',\n",
    "                labels={'sum': 'Score de Impacto Acumulado',\n",
    "                        'returns': 'Retorno Diário'})\n",
    "fig.show()"
   ]
  },
  {
   "cell_type": "markdown",
   "metadata": {},
   "source": [
    "## 5. Geração de Sinais\n",
    "\n",
    "Por fim, vamos gerar sinais de trading baseados na análise fundamentalista."
   ]
  },
  {
   "cell_type": "code",
   "execution_count": null,
   "metadata": {},
   "source": [
    "# Gera sinais\n",
    "signals = analyzer.generate_signals(news_df, threshold=0.5)\n",
    "\n",
    "# Combina sinais com preços\n",
    "signals_df = pd.DataFrame({\n",
    "    'price': price_df['close'],\n",
    "    'signal': signals\n",
    "})\n",
    "\n",
    "# Visualiza sinais\n",
    "fig = go.Figure()\n",
    "\n",
    "# Adiciona preço\n",
    "fig.add_trace(go.Scatter(\n",
    "    x=signals_df.index,\n",
    "    y=signals_df['price'],\n",
    "    name='Preço',\n",
    "    line=dict(color='blue')\n",
    "))\n",
    "\n",
    "# Adiciona sinais de compra\n",
    "buy_signals = signals_df[signals_df['signal'] == 1]\n",
    "fig.add_trace(go.Scatter(\n",
    "    x=buy_signals.index,\n",
    "    y=buy_signals['price'],\n",
    "    mode='markers',\n",
    "    name='Compra',\n",
    "    marker=dict(color='green', size=10)\n",
    "))\n",
    "\n",
    "# Adiciona sinais de venda\n",
    "sell_signals = signals_df[signals_df['signal'] == -1]\n",
    "fig.add_trace(go.Scatter(\n",
    "    x=sell_signals.index,\n",
    "    y=sell_signals['price'],\n",
    "    mode='markers',\n",
    "    name='Venda',\n",
    "    marker=dict(color='red', size=10)\n",
    "))\n",
    "\n",
    "fig.update_layout(\n",
    "    title='Sinais Fundamentalistas',\n",
    "    xaxis_title='Data',\n",
    "    yaxis_title='Preço'\n",
    ")\n",
    "\n",
    "fig.show()\n",
    "\n",
    "# Estatísticas dos sinais\n",
    "print('\nEstatísticas dos sinais:')\n",
    "print(f'Total de sinais: {len(signals[signals != 0])}')\n",
    "print(f'Sinais de compra: {len(signals[signals == 1])}')\n",
    "print(f'Sinais de venda: {len(signals[signals == -1])}')\n",
    "print(f'Dias neutros: {len(signals[signals == 0])}')\n"
   ]
  },
  {
   "cell_type": "markdown",
   "metadata": {},
   "source": [
    "## 6. Próximos Passos\n",
    "\n",
    "1. Refinar categorias e pesos das notícias\n",
    "2. Implementar mais fontes de dados\n",
    "3. Melhorar análise de sentimento para contexto financeiro\n",
    "4. Desenvolver backtesting dos sinais fundamentalistas\n",
    "5. Integrar com análise técnica"
   ]
  }
 ],
 "metadata": {
  "kernelspec": {
   "display_name": "Python 3",
   "language": "python",
   "name": "python3"
  }
 },
 "nbformat": 4,
 "nbformat_minor": 4
}